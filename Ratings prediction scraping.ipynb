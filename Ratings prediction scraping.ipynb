{
 "cells": [
  {
   "cell_type": "code",
   "execution_count": 1,
   "id": "b212755a",
   "metadata": {},
   "outputs": [],
   "source": [
    "#Import necessory libraries\n",
    "import selenium\n",
    "import pandas as pd\n",
    "import time\n",
    "import  requests\n",
    "from  bs4 import BeautifulSoup\n",
    "from selenium import webdriver\n",
    "from selenium.common.exceptions import NoSuchElementException\n",
    "from selenium.webdriver.common.keys import Keys\n",
    "from selenium.webdriver.common.action_chains import ActionChains\n",
    "from selenium.webdriver.support.ui import WebDriverWait\n",
    "from selenium.webdriver.support import expected_conditions as EC\n",
    "from selenium.webdriver.common.by import By"
   ]
  },
  {
   "cell_type": "code",
   "execution_count": 6,
   "id": "b969dc2c",
   "metadata": {},
   "outputs": [
    {
     "name": "stderr",
     "output_type": "stream",
     "text": [
      "<ipython-input-6-db6d02c2f288>:2: DeprecationWarning: executable_path has been deprecated, please pass in a Service object\n",
      "  driver = webdriver.Chrome(r'C:\\Users\\91964\\Desktop\\nazia\\chromedriver_win32\\chromedriver.exe')\n"
     ]
    }
   ],
   "source": [
    "# Connecting to the webdriver\n",
    "driver = webdriver.Chrome(r'C:\\Users\\91964\\Desktop\\nazia\\chromedriver_win32\\chromedriver.exe')"
   ]
  },
  {
   "cell_type": "code",
   "execution_count": null,
   "id": "ff4ca5c2",
   "metadata": {},
   "outputs": [],
   "source": [
    "# scraping data from Flipkart.com"
   ]
  },
  {
   "cell_type": "code",
   "execution_count": 7,
   "id": "c2fb3a5d",
   "metadata": {},
   "outputs": [
    {
     "name": "stderr",
     "output_type": "stream",
     "text": [
      "<ipython-input-7-aa8f64edd30e>:5: DeprecationWarning: find_element_by_* commands are deprecated. Please use find_element() instead\n",
      "  driver.find_element_by_xpath(\"//div[@class='_2QfC02']/button\").click()\n"
     ]
    }
   ],
   "source": [
    "url = \"https://www.flipkart.com/\"\n",
    "driver.get(url)\n",
    "time.sleep(2)\n",
    "#clicking on cancel button \n",
    "driver.find_element_by_xpath(\"//div[@class='_2QfC02']/button\").click()"
   ]
  },
  {
   "cell_type": "code",
   "execution_count": 8,
   "id": "87672aa3",
   "metadata": {},
   "outputs": [],
   "source": [
    "srch_items = ['laptops', 'Phones','smart watches','Monitors']"
   ]
  },
  {
   "cell_type": "code",
   "execution_count": 9,
   "id": "44ea9966",
   "metadata": {},
   "outputs": [],
   "source": [
    "title = []\n",
    "review_text = []\n",
    "ratings = []\n",
    "def scrap():    \n",
    "        for i in driver.find_elements_by_xpath(\"//div[@class='t-ZTKy']\"):\n",
    "            review_text.append(i.text)\n",
    "        for i in driver.find_elements_by_xpath(\"//p[@class='_2-N8zT']\"):\n",
    "            title.append(i.text)\n",
    "        for i in driver.find_elements_by_xpath(\"//p[@class='_2-N8zT']/../div\"):\n",
    "            ratings.append(i.text)\n",
    "        return\n",
    "urls=[]"
   ]
  },
  {
   "cell_type": "code",
   "execution_count": 10,
   "id": "72702bdc",
   "metadata": {},
   "outputs": [
    {
     "name": "stderr",
     "output_type": "stream",
     "text": [
      "<ipython-input-10-89c8d75cfaf6>:3: DeprecationWarning: find_element_by_* commands are deprecated. Please use find_element() instead\n",
      "  srchBar = driver.find_element_by_xpath(\"//div[@class='_3OO5Xc']/input\")\n",
      "<ipython-input-10-89c8d75cfaf6>:7: DeprecationWarning: find_element_by_* commands are deprecated. Please use find_element() instead\n",
      "  driver.find_element_by_xpath(\"//button[@class='L0Z3Pu']\").click()\n",
      "<ipython-input-10-89c8d75cfaf6>:10: DeprecationWarning: find_elements_by_* commands are deprecated. Please use find_elements() instead\n",
      "  for i in driver.find_elements_by_xpath(\"//nav[@class='yFHi8N']/a\"):\n",
      "<ipython-input-10-89c8d75cfaf6>:15: DeprecationWarning: find_elements_by_* commands are deprecated. Please use find_elements() instead\n",
      "  items = driver.find_elements_by_xpath(\"//a[@class='_1fQZEK']\")\n"
     ]
    }
   ],
   "source": [
    "for i in srch_items:\n",
    "    #Find search bar\n",
    "    srchBar = driver.find_element_by_xpath(\"//div[@class='_3OO5Xc']/input\")\n",
    "    srchBar.clear()\n",
    "    srchBar.send_keys(i)\n",
    "    #clicking on search button\n",
    "    driver.find_element_by_xpath(\"//button[@class='L0Z3Pu']\").click()\n",
    "    time.sleep(3)\n",
    "    page = []\n",
    "    for i in driver.find_elements_by_xpath(\"//nav[@class='yFHi8N']/a\"):\n",
    "        page.append(i.get_attribute('href'))\n",
    "    for i in page[0:4]:\n",
    "        driver.get(i)\n",
    "        time.sleep(3)\n",
    "        items = driver.find_elements_by_xpath(\"//a[@class='_1fQZEK']\")\n",
    "        for i in items:\n",
    "            urls.append(i.get_attribute('href'))"
   ]
  },
  {
   "cell_type": "code",
   "execution_count": 11,
   "id": "3ca5ffda",
   "metadata": {},
   "outputs": [
    {
     "data": {
      "text/plain": [
       "288"
      ]
     },
     "execution_count": 11,
     "metadata": {},
     "output_type": "execute_result"
    }
   ],
   "source": [
    "len(urls)"
   ]
  },
  {
   "cell_type": "code",
   "execution_count": 13,
   "id": "a26ff850",
   "metadata": {},
   "outputs": [
    {
     "name": "stderr",
     "output_type": "stream",
     "text": [
      "<ipython-input-13-66ffa866f75e>:10: DeprecationWarning: find_element_by_* commands are deprecated. Please use find_element() instead\n",
      "  btn=driver.find_element_by_xpath(\"//div[@class='_2c2kV-']/following::a\")\n",
      "<ipython-input-9-292ba353196b>:5: DeprecationWarning: find_elements_by_* commands are deprecated. Please use find_elements() instead\n",
      "  for i in driver.find_elements_by_xpath(\"//div[@class='t-ZTKy']\"):\n",
      "<ipython-input-9-292ba353196b>:7: DeprecationWarning: find_elements_by_* commands are deprecated. Please use find_elements() instead\n",
      "  for i in driver.find_elements_by_xpath(\"//p[@class='_2-N8zT']\"):\n",
      "<ipython-input-9-292ba353196b>:9: DeprecationWarning: find_elements_by_* commands are deprecated. Please use find_elements() instead\n",
      "  for i in driver.find_elements_by_xpath(\"//p[@class='_2-N8zT']/../div\"):\n",
      "<ipython-input-13-66ffa866f75e>:19: DeprecationWarning: find_elements_by_* commands are deprecated. Please use find_elements() instead\n",
      "  n_page=driver.find_elements_by_xpath(\"//nav[@class='yFHi8N']/a\")\n"
     ]
    },
    {
     "data": {
      "text/plain": [
       "(21406, 21406, 21406)"
      ]
     },
     "execution_count": 13,
     "metadata": {},
     "output_type": "execute_result"
    }
   ],
   "source": [
    "for i in urls:\n",
    "    driver.get(i)\n",
    "    time.sleep(2)\n",
    "    \n",
    "    for _ in range(2):\n",
    "        driver.execute_script(\"window.scrollBy(0,6000)\")\n",
    "        time.sleep(1)\n",
    "        #clicking on all reviews\n",
    "    try:\n",
    "        btn=driver.find_element_by_xpath(\"//div[@class='_2c2kV-']/following::a\")\n",
    "        lnk = btn.get_attribute('href')\n",
    "        driver.get(lnk)\n",
    "        time.sleep(1)\n",
    "    except NoSuchElementException:\n",
    "        pass\n",
    "\n",
    "    scrap()        \n",
    "    try:\n",
    "        n_page=driver.find_elements_by_xpath(\"//nav[@class='yFHi8N']/a\")\n",
    "        np=[]\n",
    "        for i in n_page:\n",
    "            np.append(i.get_attribute('href'))\n",
    "        for i in np[0:18]:\n",
    "            driver.get(i)\n",
    "            time.sleep(1)\n",
    "            scrap()\n",
    "    except: continue\n",
    "len(ratings), len(review_text), len(title)"
   ]
  },
  {
   "cell_type": "code",
   "execution_count": 16,
   "id": "0e65f200",
   "metadata": {},
   "outputs": [
    {
     "data": {
      "text/html": [
       "<div>\n",
       "<style scoped>\n",
       "    .dataframe tbody tr th:only-of-type {\n",
       "        vertical-align: middle;\n",
       "    }\n",
       "\n",
       "    .dataframe tbody tr th {\n",
       "        vertical-align: top;\n",
       "    }\n",
       "\n",
       "    .dataframe thead th {\n",
       "        text-align: right;\n",
       "    }\n",
       "</style>\n",
       "<table border=\"1\" class=\"dataframe\">\n",
       "  <thead>\n",
       "    <tr style=\"text-align: right;\">\n",
       "      <th></th>\n",
       "      <th>Review_Title</th>\n",
       "      <th>Review_Text</th>\n",
       "      <th>Ratings</th>\n",
       "    </tr>\n",
       "  </thead>\n",
       "  <tbody>\n",
       "    <tr>\n",
       "      <th>0</th>\n",
       "      <td>Just wow!</td>\n",
       "      <td>Worth the money spent. Probably the best lapto...</td>\n",
       "      <td>5</td>\n",
       "    </tr>\n",
       "    <tr>\n",
       "      <th>1</th>\n",
       "      <td>Best in the market!</td>\n",
       "      <td>Laptop in Flipkart image is different imaginat...</td>\n",
       "      <td>5</td>\n",
       "    </tr>\n",
       "    <tr>\n",
       "      <th>2</th>\n",
       "      <td>Best in the market!</td>\n",
       "      <td>Nice product,\\nKeyboard is so smooth and backl...</td>\n",
       "      <td>5</td>\n",
       "    </tr>\n",
       "    <tr>\n",
       "      <th>3</th>\n",
       "      <td>Classy product</td>\n",
       "      <td>At this price this is a pretty good package......</td>\n",
       "      <td>5</td>\n",
       "    </tr>\n",
       "    <tr>\n",
       "      <th>4</th>\n",
       "      <td>Classy product</td>\n",
       "      <td>Amazing laptop. Looks sleek and works like a b...</td>\n",
       "      <td>5</td>\n",
       "    </tr>\n",
       "    <tr>\n",
       "      <th>...</th>\n",
       "      <td>...</td>\n",
       "      <td>...</td>\n",
       "      <td>...</td>\n",
       "    </tr>\n",
       "    <tr>\n",
       "      <th>21401</th>\n",
       "      <td>Utterly Disappointed</td>\n",
       "      <td>Third class plz don't buy</td>\n",
       "      <td>1</td>\n",
       "    </tr>\n",
       "    <tr>\n",
       "      <th>21402</th>\n",
       "      <td>Hated it!</td>\n",
       "      <td>The keyboard is very very bad quantity. All ke...</td>\n",
       "      <td>1</td>\n",
       "    </tr>\n",
       "    <tr>\n",
       "      <th>21403</th>\n",
       "      <td>Waste of money!</td>\n",
       "      <td>Very bad... My mouse is not working .. battery...</td>\n",
       "      <td>1</td>\n",
       "    </tr>\n",
       "    <tr>\n",
       "      <th>21404</th>\n",
       "      <td>Worth every penny</td>\n",
       "      <td>Great and better option in this price I love it😍😍</td>\n",
       "      <td>5</td>\n",
       "    </tr>\n",
       "    <tr>\n",
       "      <th>21405</th>\n",
       "      <td>Not recommended at all</td>\n",
       "      <td>After 2 months keys start pressing automatical...</td>\n",
       "      <td>1</td>\n",
       "    </tr>\n",
       "  </tbody>\n",
       "</table>\n",
       "<p>21406 rows × 3 columns</p>\n",
       "</div>"
      ],
      "text/plain": [
       "                 Review_Title  \\\n",
       "0                   Just wow!   \n",
       "1         Best in the market!   \n",
       "2         Best in the market!   \n",
       "3              Classy product   \n",
       "4              Classy product   \n",
       "...                       ...   \n",
       "21401    Utterly Disappointed   \n",
       "21402               Hated it!   \n",
       "21403         Waste of money!   \n",
       "21404       Worth every penny   \n",
       "21405  Not recommended at all   \n",
       "\n",
       "                                             Review_Text Ratings  \n",
       "0      Worth the money spent. Probably the best lapto...       5  \n",
       "1      Laptop in Flipkart image is different imaginat...       5  \n",
       "2      Nice product,\\nKeyboard is so smooth and backl...       5  \n",
       "3      At this price this is a pretty good package......       5  \n",
       "4      Amazing laptop. Looks sleek and works like a b...       5  \n",
       "...                                                  ...     ...  \n",
       "21401                          Third class plz don't buy       1  \n",
       "21402  The keyboard is very very bad quantity. All ke...       1  \n",
       "21403  Very bad... My mouse is not working .. battery...       1  \n",
       "21404  Great and better option in this price I love it😍😍       5  \n",
       "21405  After 2 months keys start pressing automatical...       1  \n",
       "\n",
       "[21406 rows x 3 columns]"
      ]
     },
     "execution_count": 16,
     "metadata": {},
     "output_type": "execute_result"
    }
   ],
   "source": [
    "#creating a dataframe\n",
    "data = list(zip(title,review_text,ratings))\n",
    "df = pd.DataFrame(data, columns = [\"Review_Title\",\"Review_Text\",\"Ratings\"])\n",
    "df"
   ]
  },
  {
   "cell_type": "code",
   "execution_count": 17,
   "id": "0e79a785",
   "metadata": {},
   "outputs": [],
   "source": [
    "#saving the data into csv file\n",
    "df.to_csv(\"flipkrt_reviews.csv\")"
   ]
  },
  {
   "cell_type": "code",
   "execution_count": 33,
   "id": "74aba299",
   "metadata": {},
   "outputs": [
    {
     "data": {
      "text/html": [
       "<div>\n",
       "<style scoped>\n",
       "    .dataframe tbody tr th:only-of-type {\n",
       "        vertical-align: middle;\n",
       "    }\n",
       "\n",
       "    .dataframe tbody tr th {\n",
       "        vertical-align: top;\n",
       "    }\n",
       "\n",
       "    .dataframe thead th {\n",
       "        text-align: right;\n",
       "    }\n",
       "</style>\n",
       "<table border=\"1\" class=\"dataframe\">\n",
       "  <thead>\n",
       "    <tr style=\"text-align: right;\">\n",
       "      <th></th>\n",
       "      <th>Unnamed: 0</th>\n",
       "      <th>Review_Title</th>\n",
       "      <th>Review_Text</th>\n",
       "      <th>Ratings</th>\n",
       "    </tr>\n",
       "  </thead>\n",
       "  <tbody>\n",
       "    <tr>\n",
       "      <th>0</th>\n",
       "      <td>0</td>\n",
       "      <td>Just wow!</td>\n",
       "      <td>Worth the money spent. Probably the best lapto...</td>\n",
       "      <td>5.0</td>\n",
       "    </tr>\n",
       "    <tr>\n",
       "      <th>1</th>\n",
       "      <td>1</td>\n",
       "      <td>Best in the market!</td>\n",
       "      <td>Laptop in Flipkart image is different imaginat...</td>\n",
       "      <td>5.0</td>\n",
       "    </tr>\n",
       "    <tr>\n",
       "      <th>2</th>\n",
       "      <td>2</td>\n",
       "      <td>Best in the market!</td>\n",
       "      <td>Nice product,\\nKeyboard is so smooth and backl...</td>\n",
       "      <td>5.0</td>\n",
       "    </tr>\n",
       "    <tr>\n",
       "      <th>3</th>\n",
       "      <td>3</td>\n",
       "      <td>Classy product</td>\n",
       "      <td>At this price this is a pretty good package......</td>\n",
       "      <td>5.0</td>\n",
       "    </tr>\n",
       "    <tr>\n",
       "      <th>4</th>\n",
       "      <td>4</td>\n",
       "      <td>Classy product</td>\n",
       "      <td>Amazing laptop. Looks sleek and works like a b...</td>\n",
       "      <td>5.0</td>\n",
       "    </tr>\n",
       "    <tr>\n",
       "      <th>...</th>\n",
       "      <td>...</td>\n",
       "      <td>...</td>\n",
       "      <td>...</td>\n",
       "      <td>...</td>\n",
       "    </tr>\n",
       "    <tr>\n",
       "      <th>21401</th>\n",
       "      <td>21401</td>\n",
       "      <td>Utterly Disappointed</td>\n",
       "      <td>Third class plz don't buy</td>\n",
       "      <td>1.0</td>\n",
       "    </tr>\n",
       "    <tr>\n",
       "      <th>21402</th>\n",
       "      <td>21402</td>\n",
       "      <td>Hated it!</td>\n",
       "      <td>The keyboard is very very bad quantity. All ke...</td>\n",
       "      <td>1.0</td>\n",
       "    </tr>\n",
       "    <tr>\n",
       "      <th>21403</th>\n",
       "      <td>21403</td>\n",
       "      <td>Waste of money!</td>\n",
       "      <td>Very bad... My mouse is not working .. battery...</td>\n",
       "      <td>1.0</td>\n",
       "    </tr>\n",
       "    <tr>\n",
       "      <th>21404</th>\n",
       "      <td>21404</td>\n",
       "      <td>Worth every penny</td>\n",
       "      <td>Great and better option in this price I love it😍😍</td>\n",
       "      <td>5.0</td>\n",
       "    </tr>\n",
       "    <tr>\n",
       "      <th>21405</th>\n",
       "      <td>21405</td>\n",
       "      <td>Not recommended at all</td>\n",
       "      <td>After 2 months keys start pressing automatical...</td>\n",
       "      <td>1.0</td>\n",
       "    </tr>\n",
       "  </tbody>\n",
       "</table>\n",
       "<p>21406 rows × 4 columns</p>\n",
       "</div>"
      ],
      "text/plain": [
       "       Unnamed: 0            Review_Title  \\\n",
       "0               0               Just wow!   \n",
       "1               1     Best in the market!   \n",
       "2               2     Best in the market!   \n",
       "3               3          Classy product   \n",
       "4               4          Classy product   \n",
       "...           ...                     ...   \n",
       "21401       21401    Utterly Disappointed   \n",
       "21402       21402               Hated it!   \n",
       "21403       21403         Waste of money!   \n",
       "21404       21404       Worth every penny   \n",
       "21405       21405  Not recommended at all   \n",
       "\n",
       "                                             Review_Text  Ratings  \n",
       "0      Worth the money spent. Probably the best lapto...      5.0  \n",
       "1      Laptop in Flipkart image is different imaginat...      5.0  \n",
       "2      Nice product,\\nKeyboard is so smooth and backl...      5.0  \n",
       "3      At this price this is a pretty good package......      5.0  \n",
       "4      Amazing laptop. Looks sleek and works like a b...      5.0  \n",
       "...                                                  ...      ...  \n",
       "21401                          Third class plz don't buy      1.0  \n",
       "21402  The keyboard is very very bad quantity. All ke...      1.0  \n",
       "21403  Very bad... My mouse is not working .. battery...      1.0  \n",
       "21404  Great and better option in this price I love it😍😍      5.0  \n",
       "21405  After 2 months keys start pressing automatical...      1.0  \n",
       "\n",
       "[21406 rows x 4 columns]"
      ]
     },
     "execution_count": 33,
     "metadata": {},
     "output_type": "execute_result"
    }
   ],
   "source": [
    "#lets load the flipkart reviews file\n",
    "Rating_pred = pd.read_csv(\"flipkrt_reviews.csv\")\n",
    "Rating_pred"
   ]
  },
  {
   "cell_type": "code",
   "execution_count": 34,
   "id": "b2e32c40",
   "metadata": {},
   "outputs": [],
   "source": [
    "#saving the data into csv file\n",
    "Rating_pred.to_csv(\"ratings_pred.csv\")"
   ]
  },
  {
   "cell_type": "code",
   "execution_count": null,
   "id": "701dd0b2",
   "metadata": {},
   "outputs": [],
   "source": []
  }
 ],
 "metadata": {
  "kernelspec": {
   "display_name": "Python 3",
   "language": "python",
   "name": "python3"
  },
  "language_info": {
   "codemirror_mode": {
    "name": "ipython",
    "version": 3
   },
   "file_extension": ".py",
   "mimetype": "text/x-python",
   "name": "python",
   "nbconvert_exporter": "python",
   "pygments_lexer": "ipython3",
   "version": "3.8.8"
  }
 },
 "nbformat": 4,
 "nbformat_minor": 5
}
